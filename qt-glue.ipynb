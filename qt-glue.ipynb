{
 "cells": [
  {
   "cell_type": "code",
   "execution_count": null,
   "id": "bb8203e6",
   "metadata": {},
   "outputs": [],
   "source": [
    "%gui qt"
   ]
  },
  {
   "cell_type": "code",
   "execution_count": null,
   "id": "469ea8b3",
   "metadata": {},
   "outputs": [],
   "source": [
    "import numpy as np\n",
    "\n",
    "from glue.core import Data, DataCollection\n",
    "from glue_qt.app.application import GlueApplication\n",
    "from glue_qt.viewers.scatter import ScatterViewer\n",
    "\n",
    "# create some data\n",
    "d1 = Data(label=\"D1\", x=np.random.random(100), y=np.random.random(100))\n",
    "d2 = Data(label=\"D2\", a=np.random.random(100), b=np.random.random(100))\n",
    "dc = DataCollection([d1, d2])\n",
    "\n",
    "\n",
    "# create a GUI session\n",
    "ga = GlueApplication(dc)\n",
    "\n",
    "# plot x vs y, flip the x axis, log-scale y axis\n",
    "scatter = ga.new_data_viewer(ScatterViewer)\n",
    "scatter.add_data(d1)\n",
    "\n",
    "# Modify viewer-level options\n",
    "scatter.state.x_att = d1.id['x']\n",
    "scatter.state.y_att = d1.id['y']\n",
    "scatter.state.y_log = True\n",
    "\n",
    "# Modify settings for the (only) layer shown\n",
    "scatter.state.layers[0].color = 'blue'\n",
    "\n",
    "# show the GUI\n",
    "# ga.start()\n",
    "ga.show()"
   ]
  },
  {
   "cell_type": "code",
   "execution_count": null,
   "id": "059723dd",
   "metadata": {},
   "outputs": [],
   "source": [
    "d"
   ]
  },
  {
   "cell_type": "code",
   "execution_count": null,
   "id": "8b36737f",
   "metadata": {},
   "outputs": [],
   "source": [
    "d.subsets"
   ]
  },
  {
   "cell_type": "code",
   "execution_count": null,
   "id": "bf129f58",
   "metadata": {},
   "outputs": [],
   "source": [
    "d.subsets[0].to_mask().sum()"
   ]
  },
  {
   "cell_type": "code",
   "execution_count": null,
   "id": "ccf9ea64",
   "metadata": {},
   "outputs": [],
   "source": [
    "ga.children()"
   ]
  },
  {
   "cell_type": "code",
   "execution_count": null,
   "id": "95fe3e2e",
   "metadata": {},
   "outputs": [],
   "source": []
  }
 ],
 "metadata": {
  "kernelspec": {
   "display_name": "Python 3 (ipykernel)",
   "language": "python",
   "name": "python3"
  },
  "language_info": {
   "codemirror_mode": {
    "name": "ipython",
    "version": 3
   },
   "file_extension": ".py",
   "mimetype": "text/x-python",
   "name": "python",
   "nbconvert_exporter": "python",
   "pygments_lexer": "ipython3",
   "version": "3.9.16"
  }
 },
 "nbformat": 4,
 "nbformat_minor": 5
}
